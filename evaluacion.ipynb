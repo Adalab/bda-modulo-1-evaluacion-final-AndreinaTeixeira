{
 "cells": [
  {
   "cell_type": "markdown",
   "id": "428a4ec0",
   "metadata": {},
   "source": [
    "ESTRUCTURAS PRINCIPALES"
   ]
  },
  {
   "cell_type": "code",
   "execution_count": 276,
   "id": "ddb2d7f8",
   "metadata": {},
   "outputs": [
    {
     "data": {
      "text/plain": [
       "[]"
      ]
     },
     "execution_count": 276,
     "metadata": {},
     "output_type": "execute_result"
    }
   ],
   "source": [
    "stock = list() #lista de diccionarios vacía. Una estructura para almacenar los productos en el inventario.\n",
    "stock\n",
    "\n"
   ]
  },
  {
   "cell_type": "code",
   "execution_count": 277,
   "id": "b5bbe997",
   "metadata": {},
   "outputs": [
    {
     "data": {
      "text/plain": [
       "{}"
      ]
     },
     "execution_count": 277,
     "metadata": {},
     "output_type": "execute_result"
    }
   ],
   "source": [
    "clients = {} #diccionario vacío. Una estructura para llevar un registro de los clientes de la tienda\n",
    "clients"
   ]
  },
  {
   "cell_type": "code",
   "execution_count": 278,
   "id": "f65fdf5a",
   "metadata": {},
   "outputs": [
    {
     "data": {
      "text/plain": [
       "float"
      ]
     },
     "execution_count": 278,
     "metadata": {},
     "output_type": "execute_result"
    }
   ],
   "source": [
    "total_sales = 0.0  #Una variable para llevar un registro de las ventas totales de la tienda, iniciado en 0.  (float)\n",
    "type(total_sales)"
   ]
  },
  {
   "cell_type": "markdown",
   "id": "77667933",
   "metadata": {},
   "source": [
    "EJERCICIO 1"
   ]
  },
  {
   "cell_type": "code",
   "execution_count": 279,
   "id": "a0415376",
   "metadata": {},
   "outputs": [],
   "source": [
    "#Esta función agrega un producto al inventario o actualiza su cantidad si ya existe\n",
    "\n",
    "def add_product_to_stock(name, price, quantity): #Debe recibir el nombre, precio y cantidad del producto como parámetros.  \n",
    "\n",
    "    price = float(price) #de string a número decimal para luego si se multiplica salga bien\n",
    "    quantity = int(quantity) #de string a número entero para que se haga la sumatoria\n",
    "\n",
    "    for product in stock: #Itera a través del inventario y compara los nombres de los productos con el nombre proporcionado\n",
    "    \n",
    "    #Si el producto ya existe, actualiza la cantidad. \n",
    "\n",
    "        if product[\"Name\"] == name: #\"producto\" es un diccionario, no puedo usar índices para buscar, solo el nombre de la \"key\"\n",
    "            product[\"Quantity\"] += quantity #suma la cantidad ingresada a la existente para el mismo producto\n",
    "            print(f\"Product '{name}' already exists. Quantity was updated successfully.\")\n",
    "            return #fallas con else\n",
    "    \n",
    "    #Cada producto debe ser representado como un diccionario con las siguientes claves: `'nombre'`, `'precio'`, y'cantidad'`.\n",
    "    stock.append({\"Name\": name, \"Price\": price, \"Quantity\": quantity}) #append porque stock es una lista\n",
    "    print (f\"Product '{name}' was created successfully.\")\n",
    "    print(f\"The following products are in stock currently: {stock}\")\n",
    "        "
   ]
  },
  {
   "cell_type": "code",
   "execution_count": 280,
   "id": "eb05d8cb",
   "metadata": {},
   "outputs": [
    {
     "name": "stdout",
     "output_type": "stream",
     "text": [
      "Product 'dress' was created successfully.\n",
      "The following products are in stock currently: [{'Name': 'dress', 'Price': 5.0, 'Quantity': 10}]\n"
     ]
    }
   ],
   "source": [
    "stock.clear()  #eliminar errores de las pruebas pasadas\n",
    "add_product_to_stock(\"dress\",5,10) #probar añadir producto nuevo"
   ]
  },
  {
   "cell_type": "code",
   "execution_count": 281,
   "id": "81a7450b",
   "metadata": {},
   "outputs": [
    {
     "name": "stdout",
     "output_type": "stream",
     "text": [
      "{'Name': 'dress', 'Price': 5.0, 'Quantity': 10}\n"
     ]
    }
   ],
   "source": [
    "print(stock[0]) #\"stock\" es una lista, puedo buscar cada producto con índice."
   ]
  },
  {
   "cell_type": "code",
   "execution_count": 282,
   "id": "1f1481b0",
   "metadata": {},
   "outputs": [
    {
     "name": "stdout",
     "output_type": "stream",
     "text": [
      "Product 'dress' already exists. Quantity was updated successfully.\n"
     ]
    },
    {
     "data": {
      "text/plain": [
       "[{'Name': 'dress', 'Price': 5.0, 'Quantity': 20}]"
      ]
     },
     "execution_count": 282,
     "metadata": {},
     "output_type": "execute_result"
    }
   ],
   "source": [
    "add_product_to_stock(\"dress\",5,10) #pruebo qué pasa al añadir un elemento que ya está en stock\n",
    "stock"
   ]
  },
  {
   "cell_type": "code",
   "execution_count": 283,
   "id": "524346cd",
   "metadata": {},
   "outputs": [
    {
     "name": "stdout",
     "output_type": "stream",
     "text": [
      "Product 'socks' was created successfully.\n",
      "The following products are in stock currently: [{'Name': 'dress', 'Price': 5.0, 'Quantity': 20}, {'Name': 'socks', 'Price': 10.0, 'Quantity': 20}]\n"
     ]
    }
   ],
   "source": [
    "add_product_to_stock(\"socks\",10,20)"
   ]
  },
  {
   "cell_type": "markdown",
   "id": "ec5b19a9",
   "metadata": {},
   "source": [
    "EJERCICIO 2"
   ]
  },
  {
   "cell_type": "code",
   "execution_count": 284,
   "id": "9cfab43d",
   "metadata": {},
   "outputs": [
    {
     "ename": "SyntaxError",
     "evalue": "expected ':' (3707840392.py, line 5)",
     "output_type": "error",
     "traceback": [
      "\u001b[1;36m  Cell \u001b[1;32mIn[284], line 5\u001b[1;36m\u001b[0m\n\u001b[1;33m    if product[\"Name\"] == name\u001b[0m\n\u001b[1;37m                              ^\u001b[0m\n\u001b[1;31mSyntaxError\u001b[0m\u001b[1;31m:\u001b[0m expected ':'\n"
     ]
    }
   ],
   "source": [
    "#`ver_inventario()`: Muestra el inventario de productos con sus detalles.\n",
    "\n",
    "def see_stock(name):\n",
    "    for product in stock:\n",
    "        if product[\"Name\"] == name\n",
    "        product[\"Name\"] = {\n",
    "            \"Name\": name,\n",
    "            \"Price\": price,\n",
    "            \"Stock\": quantity,\n",
    "        }\n",
    "    return stock if stock else \"There are no products in stock.\""
   ]
  },
  {
   "cell_type": "code",
   "execution_count": null,
   "id": "1e1c4a9c",
   "metadata": {},
   "outputs": [
    {
     "ename": "NameError",
     "evalue": "name 'product' is not defined",
     "output_type": "error",
     "traceback": [
      "\u001b[1;31m---------------------------------------------------------------------------\u001b[0m",
      "\u001b[1;31mNameError\u001b[0m                                 Traceback (most recent call last)",
      "Cell \u001b[1;32mIn[248], line 1\u001b[0m\n\u001b[1;32m----> 1\u001b[0m see_stock(\u001b[38;5;124m\"\u001b[39m\u001b[38;5;124mdress\u001b[39m\u001b[38;5;124m\"\u001b[39m)\n",
      "Cell \u001b[1;32mIn[247], line 4\u001b[0m, in \u001b[0;36msee_stock\u001b[1;34m(name)\u001b[0m\n\u001b[0;32m      3\u001b[0m \u001b[38;5;28;01mdef\u001b[39;00m \u001b[38;5;21msee_stock\u001b[39m(name):\n\u001b[1;32m----> 4\u001b[0m     \u001b[38;5;28;01mfor\u001b[39;00m k,v \u001b[38;5;129;01min\u001b[39;00m product\u001b[38;5;241m.\u001b[39mitems() \u001b[38;5;129;01min\u001b[39;00m stock:\n\u001b[0;32m      5\u001b[0m         \u001b[38;5;28mprint\u001b[39m(product\u001b[38;5;241m.\u001b[39mvalues)\n\u001b[0;32m      6\u001b[0m     \u001b[38;5;28;01mreturn\u001b[39;00m stock \u001b[38;5;28;01mif\u001b[39;00m stock \u001b[38;5;28;01melse\u001b[39;00m \u001b[38;5;124m\"\u001b[39m\u001b[38;5;124mThere are no products in stock.\u001b[39m\u001b[38;5;124m\"\u001b[39m\n",
      "\u001b[1;31mNameError\u001b[0m: name 'product' is not defined"
     ]
    }
   ],
   "source": [
    "see_stock(\"dress\") #no sé por qué no salen si las llaves"
   ]
  },
  {
   "cell_type": "markdown",
   "id": "3cc41eb7",
   "metadata": {},
   "source": [
    "EJERCICIO 3"
   ]
  },
  {
   "cell_type": "code",
   "execution_count": 286,
   "id": "89b70203",
   "metadata": {},
   "outputs": [],
   "source": [
    "#buscar_producto(nombre)`: Busca un producto en el inventario por nombre y muestra sus detalles si se encuentra. \n",
    "#Debe mostrar:\n",
    "#```python\n",
    "#Nombre: Camisa, Precio: $20, Cantidad: 40\n",
    "\n",
    "def search_product_by_name(name): # Debe recibir el nombre del producto como parámetro.\n",
    "    for product in stock: #Utiliza un bucle `for` para recorrer el inventario.\n",
    "        if product[\"Name\"] == name: #Compara los nombres de los productos con el nombre proporcionado.\n",
    "            print(product) #Si se encuentra el producto, imprime sus detalles.\n",
    "            return\n",
    "    print(f\"Product not found.\")"
   ]
  },
  {
   "cell_type": "code",
   "execution_count": 287,
   "id": "0a61e939",
   "metadata": {},
   "outputs": [
    {
     "name": "stdout",
     "output_type": "stream",
     "text": [
      "{'Name': 'dress', 'Price': 5.0, 'Quantity': 20}\n"
     ]
    }
   ],
   "source": [
    "search_product_by_name(\"dress\")"
   ]
  },
  {
   "cell_type": "markdown",
   "id": "b8a071be",
   "metadata": {},
   "source": [
    "EJERCICIO 4"
   ]
  },
  {
   "cell_type": "code",
   "execution_count": null,
   "id": "f6d7b8b5",
   "metadata": {},
   "outputs": [
    {
     "ename": "SyntaxError",
     "evalue": "invalid syntax (2157169407.py, line 10)",
     "output_type": "error",
     "traceback": [
      "\u001b[1;36m  Cell \u001b[1;32mIn[211], line 10\u001b[1;36m\u001b[0m\n\u001b[1;33m    else:\u001b[0m\n\u001b[1;37m    ^\u001b[0m\n\u001b[1;31mSyntaxError\u001b[0m\u001b[1;31m:\u001b[0m invalid syntax\n"
     ]
    }
   ],
   "source": [
    "# `actualizar_stock(nombre, cantidad)`: Actualiza el stock de un producto en el inventario. \n",
    "\n",
    "#Actualiza la cantidad según la entrada del usuario.\n",
    "\n",
    "def update_product(name, quantity=None): # Debe recibir el nombre del producto y la cantidad a agregar o quitar como parámetros.\n",
    "    for product in stock: # Utiliza un bucle `for` para recorrer el inventario.\n",
    "        if product[\"Name\"] == name: # Busca el producto por nombre.\n",
    "                product[quantity][2] = quantity #sobreescribir el valor que ya tiene en cada par\n",
    "                print(\"Product was updated successfully.\")\n",
    "            else:\n",
    "                print(\"No quantity provided.\")\n",
    "            return\n",
    "#Si el producto no esta en el inventario muestra un mensaje indicándolo\n",
    "    print(\"Product not found.\")"
   ]
  },
  {
   "cell_type": "code",
   "execution_count": null,
   "id": "a8d4e548",
   "metadata": {},
   "outputs": [
    {
     "name": "stdout",
     "output_type": "stream",
     "text": [
      "Product not found.\n"
     ]
    },
    {
     "data": {
      "text/plain": [
       "[{'Name': 'dress', 'Price': 5.0, 'Quantity': 20},\n",
       " {'Name': 'socks', 'Price': 10.0, 'Quantity': 20}]"
      ]
     },
     "execution_count": 209,
     "metadata": {},
     "output_type": "execute_result"
    }
   ],
   "source": [
    "update_product(\"dress\", 100)\n",
    "stock"
   ]
  },
  {
   "cell_type": "code",
   "execution_count": null,
   "id": "6c8ae921",
   "metadata": {},
   "outputs": [],
   "source": [
    "EJERCICIO 5"
   ]
  },
  {
   "cell_type": "code",
   "execution_count": null,
   "id": "047c32db",
   "metadata": {},
   "outputs": [],
   "source": [
    "#eliminar_producto(nombre)`: Elimina un producto del inventario por nombre. \n",
    "\n",
    "#Elimina el producto del inventario si existe.\n",
    "#Si el producto no esta en el inventario muestra un mensaje indicándolo\n",
    "\n",
    "def delete_product(name):#Debe recibir el nombre del producto como parámetro.\n",
    "    for product in stock: #Utiliza un bucle `for` para recorrer el inventario.\n",
    "      if product[\"Name\"] == name: # Busca el producto por nombre.\n",
    "           del stock[product.items]\n",
    "           print(\"Product was deleted successfully.\")\n",
    "    print(\"Product not found.\")\n"
   ]
  },
  {
   "cell_type": "code",
   "execution_count": null,
   "id": "57110d5c",
   "metadata": {},
   "outputs": [
    {
     "ename": "TypeError",
     "evalue": "list indices must be integers or slices, not builtin_function_or_method",
     "output_type": "error",
     "traceback": [
      "\u001b[1;31m---------------------------------------------------------------------------\u001b[0m",
      "\u001b[1;31mTypeError\u001b[0m                                 Traceback (most recent call last)",
      "Cell \u001b[1;32mIn[241], line 1\u001b[0m\n\u001b[1;32m----> 1\u001b[0m delete_product(\u001b[38;5;124m\"\u001b[39m\u001b[38;5;124mdress\u001b[39m\u001b[38;5;124m\"\u001b[39m)\n\u001b[0;32m      2\u001b[0m stock\n",
      "Cell \u001b[1;32mIn[240], line 9\u001b[0m, in \u001b[0;36mdelete_product\u001b[1;34m(name)\u001b[0m\n\u001b[0;32m      7\u001b[0m \u001b[38;5;28;01mfor\u001b[39;00m product \u001b[38;5;129;01min\u001b[39;00m stock: \u001b[38;5;66;03m#Utiliza un bucle `for` para recorrer el inventario.\u001b[39;00m\n\u001b[0;32m      8\u001b[0m   \u001b[38;5;28;01mif\u001b[39;00m product[\u001b[38;5;124m\"\u001b[39m\u001b[38;5;124mName\u001b[39m\u001b[38;5;124m\"\u001b[39m] \u001b[38;5;241m==\u001b[39m name: \u001b[38;5;66;03m# Busca el producto por nombre.\u001b[39;00m\n\u001b[1;32m----> 9\u001b[0m        \u001b[38;5;28;01mdel\u001b[39;00m stock[product\u001b[38;5;241m.\u001b[39mitems]\n\u001b[0;32m     10\u001b[0m        \u001b[38;5;28mprint\u001b[39m(\u001b[38;5;124m\"\u001b[39m\u001b[38;5;124mProduct was deleted successfully.\u001b[39m\u001b[38;5;124m\"\u001b[39m)\n\u001b[0;32m     11\u001b[0m \u001b[38;5;28mprint\u001b[39m(\u001b[38;5;124m\"\u001b[39m\u001b[38;5;124mProduct not found.\u001b[39m\u001b[38;5;124m\"\u001b[39m)\n",
      "\u001b[1;31mTypeError\u001b[0m: list indices must be integers or slices, not builtin_function_or_method"
     ]
    }
   ],
   "source": [
    "delete_product(\"dress\")\n",
    "stock"
   ]
  }
 ],
 "metadata": {
  "kernelspec": {
   "display_name": "base",
   "language": "python",
   "name": "python3"
  },
  "language_info": {
   "codemirror_mode": {
    "name": "ipython",
    "version": 3
   },
   "file_extension": ".py",
   "mimetype": "text/x-python",
   "name": "python",
   "nbconvert_exporter": "python",
   "pygments_lexer": "ipython3",
   "version": "3.12.9"
  }
 },
 "nbformat": 4,
 "nbformat_minor": 5
}
