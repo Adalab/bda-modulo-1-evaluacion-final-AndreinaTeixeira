{
 "cells": [
  {
   "cell_type": "markdown",
   "id": "428a4ec0",
   "metadata": {},
   "source": [
    "ESTRUCTURAS PRINCIPALES"
   ]
  },
  {
   "cell_type": "code",
   "execution_count": 46,
   "id": "ddb2d7f8",
   "metadata": {},
   "outputs": [
    {
     "data": {
      "text/plain": [
       "[]"
      ]
     },
     "execution_count": 46,
     "metadata": {},
     "output_type": "execute_result"
    }
   ],
   "source": [
    "stock = list() #lista de diccionarios vacía. Una estructura para almacenar los productos en el inventario.\n",
    "stock\n",
    "\n"
   ]
  },
  {
   "cell_type": "code",
   "execution_count": 47,
   "id": "b5bbe997",
   "metadata": {},
   "outputs": [
    {
     "data": {
      "text/plain": [
       "{}"
      ]
     },
     "execution_count": 47,
     "metadata": {},
     "output_type": "execute_result"
    }
   ],
   "source": [
    "clients = {} #diccionario vacío. Una estructura para llevar un registro de los clientes de la tienda\n",
    "clients"
   ]
  },
  {
   "cell_type": "code",
   "execution_count": 48,
   "id": "f65fdf5a",
   "metadata": {},
   "outputs": [
    {
     "data": {
      "text/plain": [
       "float"
      ]
     },
     "execution_count": 48,
     "metadata": {},
     "output_type": "execute_result"
    }
   ],
   "source": [
    "total_sales = 0.0  #Una variable para llevar un registro de las ventas totales de la tienda, iniciado en 0.  (float)\n",
    "type(total_sales)"
   ]
  },
  {
   "cell_type": "markdown",
   "id": "77667933",
   "metadata": {},
   "source": [
    "EJERCICIO 1"
   ]
  },
  {
   "cell_type": "code",
   "execution_count": 49,
   "id": "a0415376",
   "metadata": {},
   "outputs": [],
   "source": [
    "#Esta función agrega un producto al inventario o actualiza su cantidad si ya existe\n",
    "\n",
    "def add_product_to_stock(name, price, quantity): #Debe recibir el nombre, precio y cantidad del producto como parámetros.  \n",
    "\n",
    "    price = float(price) #de string a número decimal para luego si se multiplica salga bien\n",
    "    quantity = int(quantity) #de string a número entero para que se haga la sumatoria\n",
    "\n",
    "    for product in stock: #Itera a través del inventario y compara los nombres de los productos con el nombre proporcionado\n",
    "    \n",
    "    #Si el producto ya existe, actualiza la cantidad. \n",
    "\n",
    "        if product[\"Name\"] == name: #\"producto\" es un diccionario, no puedo usar índices para buscar, solo el nombre de la \"key\" (name, quantity)\n",
    "            product[\"Quantity\"] += quantity #suma la cantidad ingresada a la existente para el mismo producto si el nombre coincide\n",
    "            print(f\"Product '{name}' already exists. Quantity was updated successfully.\") #mensaje de éxito\n",
    "            print(f\"The following products are in stock currently: {stock}\")\n",
    "            return #fallas con \"else\"\n",
    "    \n",
    "    #Si no existe, agrega un nuevo producto al inventario\n",
    "    #Cada producto debe ser representado como un diccionario con las siguientes claves: `'nombre'`, `'precio'`, y'cantidad'`.\n",
    "\n",
    "    stock.append({\"Name\": name, \"Price\": price, \"Quantity\": quantity}) #append porque stock es una lista, quiero que salga llaves y las creo\n",
    "    print (f\"Product '{name}' was created successfully.\")\n",
    "    print(f\"The following products are in stock currently: {stock}\")\n",
    "        "
   ]
  },
  {
   "cell_type": "code",
   "execution_count": 50,
   "id": "eb05d8cb",
   "metadata": {},
   "outputs": [
    {
     "name": "stdout",
     "output_type": "stream",
     "text": [
      "Product 'Dress' was created successfully.\n",
      "The following products are in stock currently: [{'Name': 'Dress', 'Price': 5.0, 'Quantity': 10}]\n"
     ]
    }
   ],
   "source": [
    "stock.clear() #clean previous tests\n",
    "add_product_to_stock(\"Dress\",5,10) #probar añadir producto nuevo"
   ]
  },
  {
   "cell_type": "code",
   "execution_count": 51,
   "id": "c8f65acf",
   "metadata": {},
   "outputs": [
    {
     "name": "stdout",
     "output_type": "stream",
     "text": [
      "Product 'Jeans' was created successfully.\n",
      "The following products are in stock currently: [{'Name': 'Dress', 'Price': 5.0, 'Quantity': 10}, {'Name': 'Jeans', 'Price': 5.0, 'Quantity': 10}]\n"
     ]
    }
   ],
   "source": [
    "add_product_to_stock(\"Jeans\",5,10) #probar añadir producto nuevo\n"
   ]
  },
  {
   "cell_type": "code",
   "execution_count": 52,
   "id": "81a7450b",
   "metadata": {},
   "outputs": [
    {
     "name": "stdout",
     "output_type": "stream",
     "text": [
      "{'Name': 'Dress', 'Price': 5.0, 'Quantity': 10}\n",
      "{'Name': 'Jeans', 'Price': 5.0, 'Quantity': 10}\n"
     ]
    },
    {
     "ename": "IndexError",
     "evalue": "list index out of range",
     "output_type": "error",
     "traceback": [
      "\u001b[1;31m---------------------------------------------------------------------------\u001b[0m",
      "\u001b[1;31mIndexError\u001b[0m                                Traceback (most recent call last)",
      "Cell \u001b[1;32mIn[52], line 3\u001b[0m\n\u001b[0;32m      1\u001b[0m \u001b[38;5;28mprint\u001b[39m(stock[\u001b[38;5;241m0\u001b[39m]) \u001b[38;5;66;03m#\"stock\" es una lista, puedo buscar cada producto con índice.\u001b[39;00m\n\u001b[0;32m      2\u001b[0m \u001b[38;5;28mprint\u001b[39m(stock[\u001b[38;5;241m1\u001b[39m])\n\u001b[1;32m----> 3\u001b[0m \u001b[38;5;28mprint\u001b[39m(stock[\u001b[38;5;241m2\u001b[39m])\n",
      "\u001b[1;31mIndexError\u001b[0m: list index out of range"
     ]
    }
   ],
   "source": [
    "print(stock[0]) #\"stock\" es una lista, puedo buscar cada producto con índice.\n",
    "print(stock[1])\n",
    "print(stock[2]) #solo tengo dos productos, si busco el tercero da error"
   ]
  },
  {
   "cell_type": "code",
   "execution_count": null,
   "id": "1f1481b0",
   "metadata": {},
   "outputs": [
    {
     "name": "stdout",
     "output_type": "stream",
     "text": [
      "Product 'Dress' already exists. Quantity was updated successfully.\n",
      "The following products are in stock currently: [{'Name': 'Dress', 'Price': 5.0, 'Quantity': 20}, {'Name': 'Jeans', 'Price': 5.0, 'Quantity': 10}]\n"
     ]
    }
   ],
   "source": [
    "add_product_to_stock(\"Dress\",5,10) #pruebo qué pasa al añadir un elemento que ya está en stock\n",
    "#quantity for dress is now 30 (20+10)"
   ]
  },
  {
   "cell_type": "code",
   "execution_count": null,
   "id": "524346cd",
   "metadata": {},
   "outputs": [
    {
     "name": "stdout",
     "output_type": "stream",
     "text": [
      "Product 'Socks' was created successfully.\n",
      "The following products are in stock currently: [{'Name': 'Dress', 'Price': 5.0, 'Quantity': 20}, {'Name': 'Jeans', 'Price': 5.0, 'Quantity': 10}, {'Name': 'Socks', 'Price': 10.0, 'Quantity': 20}]\n"
     ]
    }
   ],
   "source": [
    "add_product_to_stock(\"Socks\",10,20)"
   ]
  },
  {
   "cell_type": "markdown",
   "id": "ec5b19a9",
   "metadata": {},
   "source": [
    "EJERCICIO 2"
   ]
  },
  {
   "cell_type": "code",
   "execution_count": null,
   "id": "9cfab43d",
   "metadata": {},
   "outputs": [],
   "source": [
    "#`ver_inventario()`: Muestra el inventario de productos con sus detalles.\n",
    "#Debería verse:\n",
    "#```python\n",
    "#Nombre: Camisa, Precio: $20, Cantidad: 50\n",
    "#Nombre: Pantalón, Precio: $30, Cantidad: 30\n",
    "#Nombre: Zapatos, Precio: $50, Cantidad: 40\n",
    "#Nombre: Camisa, Precio: $20, Cantidad: 5\n",
    "\n",
    "def see_stock(): #no lleva argumento, lo quiero ver todo\n",
    "    if stock == []: #si lo coloco dentro del for da error, comprobar si está vacío el stock\n",
    "           print(\"There is no stock.\")\n",
    "           return\n",
    "    for product in stock: #Utiliza un bucle `for` para recorrer el inventario.\n",
    "        name = product[\"Name\"] #tengo que definir las variables porque si no, da error en el print\n",
    "        price = product[\"Price\"] \n",
    "        quantity = product[\"Quantity\"] \n",
    "        if stock != []: #si no está vacío el stock\n",
    "            print(f\"Name: {name}, Price: ${price}, Quantity: {quantity}.\") #Imprime los detalles (nombre, precio, cantidad) de cada producto.\n",
    "         "
   ]
  },
  {
   "cell_type": "code",
   "execution_count": null,
   "id": "1e1c4a9c",
   "metadata": {},
   "outputs": [
    {
     "name": "stdout",
     "output_type": "stream",
     "text": [
      "Name: Dress, Price: $5.0, Quantity: 20.\n",
      "Name: Jeans, Price: $5.0, Quantity: 10.\n",
      "Name: Socks, Price: $10.0, Quantity: 20.\n"
     ]
    }
   ],
   "source": [
    "see_stock()"
   ]
  },
  {
   "cell_type": "code",
   "execution_count": null,
   "id": "52d744dd",
   "metadata": {},
   "outputs": [
    {
     "name": "stdout",
     "output_type": "stream",
     "text": [
      "There is no stock.\n"
     ]
    }
   ],
   "source": [
    "stock.clear()\n",
    "see_stock()"
   ]
  },
  {
   "cell_type": "markdown",
   "id": "3cc41eb7",
   "metadata": {},
   "source": [
    "EJERCICIO 3"
   ]
  },
  {
   "cell_type": "code",
   "execution_count": null,
   "id": "89b70203",
   "metadata": {},
   "outputs": [],
   "source": [
    "#buscar_producto(nombre)`: Busca un producto en el inventario por nombre y muestra sus detalles si se encuentra. \n",
    "#Debe mostrar:\n",
    "#```python\n",
    "#Nombre: Camisa, Precio: $20, Cantidad: 40\n",
    "\n",
    "def search_product_by_name(name): # Debe recibir el nombre del producto como parámetro.\n",
    "    for product in stock: #Utiliza un bucle `for` para recorrer el inventario.\n",
    "        if product[\"Name\"] == name: #Compara los nombres de los productos con el nombre proporcionado.\n",
    "            price = product[\"Price\"] #tengo que definir las variables porque si no, da error en el print\n",
    "            quantity = product[\"Quantity\"]\n",
    "            #print(product)  muestra llaves y no el valor de euros!!!!!!!\n",
    "            print(f\"Name: {name}, Price: ${price}, Quantity: {quantity}.\")\n",
    "            return\n",
    "    print(f\"Product not found.\") "
   ]
  },
  {
   "cell_type": "code",
   "execution_count": null,
   "id": "0a61e939",
   "metadata": {},
   "outputs": [
    {
     "name": "stdout",
     "output_type": "stream",
     "text": [
      "Name: Dress, Price: $5.0, Quantity: 10.\n"
     ]
    }
   ],
   "source": [
    "search_product_by_name(\"Dress\")"
   ]
  },
  {
   "cell_type": "code",
   "execution_count": null,
   "id": "eb5d157e",
   "metadata": {},
   "outputs": [
    {
     "name": "stdout",
     "output_type": "stream",
     "text": [
      "Product not found.\n"
     ]
    }
   ],
   "source": [
    "search_product_by_name(\"tiara\")"
   ]
  },
  {
   "cell_type": "markdown",
   "id": "b8a071be",
   "metadata": {},
   "source": [
    "EJERCICIO 4"
   ]
  },
  {
   "cell_type": "code",
   "execution_count": 106,
   "id": "f6d7b8b5",
   "metadata": {},
   "outputs": [],
   "source": [
    "# `actualizar_stock(nombre, cantidad)`: Actualiza el stock de un producto en el inventario. \n",
    "\n",
    "#Actualiza la cantidad según la entrada del usuario.\n",
    "\n",
    "def update_product(name, quantity=None): # Debe recibir el nombre del producto y la cantidad a agregar o quitar como parámetros. None acepta que no haya valor.\n",
    "    for product in stock: # Utiliza un bucle `for` para recorrer el inventario.\n",
    "        if product[\"Name\"] == name: # Busca el producto por nombre.\n",
    "                if quantity != None and isinstance(quantity,int): #quiero que no esté vacío y que sea un entero, != \"\" no funciona porque no es string\n",
    "                        product[\"Quantity\"] = quantity #sobreescribir el valor que ya tiene el int\n",
    "                        print(\"Product was updated successfully.\")\n",
    "                        return\n",
    "                elif quantity != None and not isinstance(quantity,int):\n",
    "                      print(\"Please enter a number.\") #si está vacío o no es un entero\n",
    "                      return\n",
    "                else:   \n",
    "                        print(\"No quantity provided.\") #si está vacío o no es un entero\n",
    "                        return\n",
    "    print(\"Product not found.\") #Si el producto no está en el inventario muestra un mensaje indicándolo"
   ]
  },
  {
   "cell_type": "code",
   "execution_count": 104,
   "id": "a8d4e548",
   "metadata": {},
   "outputs": [
    {
     "name": "stdout",
     "output_type": "stream",
     "text": [
      "Product was updated successfully.\n"
     ]
    },
    {
     "data": {
      "text/plain": [
       "[{'Name': 'Dress', 'Price': 5.0, 'Quantity': 100},\n",
       " {'Name': 'Jeans', 'Price': 5.0, 'Quantity': 10}]"
      ]
     },
     "execution_count": 104,
     "metadata": {},
     "output_type": "execute_result"
    }
   ],
   "source": [
    "update_product(\"Dress\", 100)\n",
    "stock"
   ]
  },
  {
   "cell_type": "code",
   "execution_count": 107,
   "id": "a0094fd1",
   "metadata": {},
   "outputs": [
    {
     "name": "stdout",
     "output_type": "stream",
     "text": [
      "No quantity provided.\n"
     ]
    }
   ],
   "source": [
    "update_product(\"Dress\")"
   ]
  },
  {
   "cell_type": "code",
   "execution_count": 108,
   "id": "f2ce90a6",
   "metadata": {},
   "outputs": [
    {
     "name": "stdout",
     "output_type": "stream",
     "text": [
      "Product not found.\n"
     ]
    }
   ],
   "source": [
    "update_product(\"Panties\", 100)"
   ]
  },
  {
   "cell_type": "code",
   "execution_count": 110,
   "id": "4d2db955",
   "metadata": {},
   "outputs": [
    {
     "name": "stdout",
     "output_type": "stream",
     "text": [
      "Please enter a number.\n"
     ]
    }
   ],
   "source": [
    "update_product(\"Dress\", \"ocho\") #not working why??"
   ]
  },
  {
   "cell_type": "markdown",
   "id": "74345e6b",
   "metadata": {},
   "source": [
    "EJERCICIO 5"
   ]
  },
  {
   "cell_type": "code",
   "execution_count": null,
   "id": "047c32db",
   "metadata": {},
   "outputs": [],
   "source": [
    "#eliminar_producto(nombre)`: Elimina un producto del inventario por nombre. \n",
    "\n",
    "def delete_product(name):#Debe recibir el nombre del producto como parámetro.\n",
    "    for product in stock: #Utiliza un bucle `for` para recorrer el inventario.\n",
    "      if product[\"Name\"] == name: # Busca el producto por nombre.\n",
    "           stock.remove(product) #Elimina el producto del inventario si existe. Remove para eliminar diccionario completo de la lista\n",
    "           print(\"Product was deleted successfully.\")\n",
    "           return\n",
    "    print(\"Product not found.\") #Si el producto no esta en el inventario muestra un mensaje indicándolo\n"
   ]
  },
  {
   "cell_type": "code",
   "execution_count": null,
   "id": "c91f380a",
   "metadata": {},
   "outputs": [
    {
     "data": {
      "text/plain": [
       "[{'Name': 'Dress', 'Price': 5.0, 'Quantity': 10},\n",
       " {'Name': 'Jeans', 'Price': 5.0, 'Quantity': 10}]"
      ]
     },
     "execution_count": 638,
     "metadata": {},
     "output_type": "execute_result"
    }
   ],
   "source": [
    "stock #ver el stock antes de eliminar elemento"
   ]
  },
  {
   "cell_type": "code",
   "execution_count": null,
   "id": "57110d5c",
   "metadata": {},
   "outputs": [
    {
     "name": "stdout",
     "output_type": "stream",
     "text": [
      "Product was deleted successfully.\n"
     ]
    }
   ],
   "source": [
    "delete_product(\"Dress\") #probar eliminar elemento"
   ]
  },
  {
   "cell_type": "code",
   "execution_count": null,
   "id": "c7f165fa",
   "metadata": {},
   "outputs": [
    {
     "data": {
      "text/plain": [
       "[{'Name': 'Jeans', 'Price': 5.0, 'Quantity': 10}]"
      ]
     },
     "execution_count": 641,
     "metadata": {},
     "output_type": "execute_result"
    }
   ],
   "source": [
    "stock #verificar si lo eliminó"
   ]
  },
  {
   "cell_type": "code",
   "execution_count": null,
   "id": "3c8d98ff",
   "metadata": {},
   "outputs": [
    {
     "name": "stdout",
     "output_type": "stream",
     "text": [
      "Product not found.\n"
     ]
    }
   ],
   "source": [
    "delete_product(\"apple\") #probar eliminar elemento que no existe"
   ]
  },
  {
   "cell_type": "markdown",
   "id": "df3368ea",
   "metadata": {},
   "source": [
    "EJERCICIO 6"
   ]
  },
  {
   "cell_type": "code",
   "execution_count": null,
   "id": "2c3cc328",
   "metadata": {},
   "outputs": [],
   "source": [
    "#`calcular_valor_inventario()`: Calcula y muestra el valor total del inventario.\n",
    "\n",
    "#Itera a través del inventario y suma el valor de cada producto (precio x cantidad). Es decir, calcula el valor total del inventario.\n",
    "#Ejemplo:\n",
    "#```python\n",
    " # si tenemos 5 camisas que valen 5 euros\n",
    " # y 10 calcetines que valen 1 euro\n",
    " # este método te tiene que devolver: 35 euros\n",
    "#valor_camisas = 5 * 5\n",
    "#valor_calcetines = 10 * 1\n",
    "#valor_camisas + valor_calcetines = 35\n",
    "\n",
    "def value_stock():\n",
    "    for product in stock: #Utiliza un bucle for para calcular el valor total del inventario.\n",
    "        \n"
   ]
  },
  {
   "cell_type": "markdown",
   "id": "e16cf6eb",
   "metadata": {},
   "source": [
    "EJERCICIO 7"
   ]
  },
  {
   "cell_type": "code",
   "execution_count": null,
   "id": "169aa2e3",
   "metadata": {},
   "outputs": [],
   "source": [
    "#realizar_compra()`: Permite a un cliente realizar una compra seleccionando productos del inventario. Debe interactuar con el cliente para\n",
    "#seleccionar productos y calcular el costo total de la compra.\n",
    "\n",
    "#Muestra el inventario y solicita al cliente ingresar el nombre del producto que desea comprar.\n",
    "#Registra los productos seleccionados en un carrito y actualiza el inventario.\n",
    "#Calcula el costo total de la compra.\n",
    "\n",
    "def do_a_purchase(producto,cantidad):\n",
    "    while: #Utiliza un bucle `while` para permitir al cliente realizar múltiples compras.\n",
    "        \n"
   ]
  }
 ],
 "metadata": {
  "kernelspec": {
   "display_name": "base",
   "language": "python",
   "name": "python3"
  },
  "language_info": {
   "codemirror_mode": {
    "name": "ipython",
    "version": 3
   },
   "file_extension": ".py",
   "mimetype": "text/x-python",
   "name": "python",
   "nbconvert_exporter": "python",
   "pygments_lexer": "ipython3",
   "version": "3.12.9"
  }
 },
 "nbformat": 4,
 "nbformat_minor": 5
}
