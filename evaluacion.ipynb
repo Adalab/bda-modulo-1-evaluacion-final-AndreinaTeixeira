{
 "cells": [
  {
   "cell_type": "markdown",
   "id": "428a4ec0",
   "metadata": {},
   "source": [
    "ESTRUCTURAS PRINCIPALES"
   ]
  },
  {
   "cell_type": "code",
   "execution_count": 207,
   "id": "ddb2d7f8",
   "metadata": {},
   "outputs": [
    {
     "data": {
      "text/plain": [
       "[]"
      ]
     },
     "execution_count": 207,
     "metadata": {},
     "output_type": "execute_result"
    }
   ],
   "source": [
    "stock = list() #lista de diccionarios vacía. Una estructura para almacenar los productos en el inventario.\n",
    "stock\n",
    "\n"
   ]
  },
  {
   "cell_type": "code",
   "execution_count": 208,
   "id": "b5bbe997",
   "metadata": {},
   "outputs": [
    {
     "data": {
      "text/plain": [
       "{}"
      ]
     },
     "execution_count": 208,
     "metadata": {},
     "output_type": "execute_result"
    }
   ],
   "source": [
    "clients = {} #diccionario vacío. Una estructura para llevar un registro de los clientes de la tienda\n",
    "clients"
   ]
  },
  {
   "cell_type": "code",
   "execution_count": 209,
   "id": "f65fdf5a",
   "metadata": {},
   "outputs": [
    {
     "data": {
      "text/plain": [
       "float"
      ]
     },
     "execution_count": 209,
     "metadata": {},
     "output_type": "execute_result"
    }
   ],
   "source": [
    "total_sales = 0.0  #Una variable para llevar un registro de las ventas totales de la tienda, iniciado en 0.  (float)\n",
    "type(total_sales)"
   ]
  },
  {
   "cell_type": "markdown",
   "id": "77667933",
   "metadata": {},
   "source": [
    "EJERCICIO 1"
   ]
  },
  {
   "cell_type": "code",
   "execution_count": 210,
   "id": "a0415376",
   "metadata": {},
   "outputs": [],
   "source": [
    "#Esta función agrega un producto al inventario o actualiza su cantidad si ya existe\n",
    "\n",
    "def add_product_to_stock(name, price, quantity): #Debe recibir el nombre, precio y cantidad del producto como parámetros.  \n",
    "\n",
    "    price = float(price) #de string a número decimal para luego si se multiplica salga bien\n",
    "    quantity = int(quantity) #de string a número entero para que se haga la sumatoria\n",
    "\n",
    "    for product in stock: #Itera a través del inventario y compara los nombres de los productos con el nombre proporcionado\n",
    "    \n",
    "    #Si el producto ya existe, actualiza la cantidad. \n",
    "\n",
    "        if product[\"Name\"] == name: #\"producto\" es un diccionario, no puedo usar índices para buscar, solo el nombre de la \"key\" (name, quantity)\n",
    "            product[\"Quantity\"] += quantity #suma la cantidad ingresada a la existente para el mismo producto si el nombre coincide\n",
    "            print(f\"Product '{name}' already exists. Quantity was updated successfully.\") #mensaje de éxito\n",
    "            print(f\"The following products are in stock currently: {stock}\")\n",
    "            return #fallas con \"else\"\n",
    "    \n",
    "    #Si no existe, agrega un nuevo producto al inventario\n",
    "    #Cada producto debe ser representado como un diccionario con las siguientes claves: `'nombre'`, `'precio'`, y'cantidad'`.\n",
    "\n",
    "    stock.append({\"Name\": name, \"Price\": price, \"Quantity\": quantity}) #append para agregar porque stock es una lista, quiero que salga las \"keys\" para los products del stock y las creo\n",
    "    print (f\"Product '{name}' was created successfully.\")\n",
    "    print(f\"The following products are in stock currently: {stock}\")\n",
    "        "
   ]
  },
  {
   "cell_type": "code",
   "execution_count": 211,
   "id": "eb05d8cb",
   "metadata": {},
   "outputs": [
    {
     "name": "stdout",
     "output_type": "stream",
     "text": [
      "Product 'Dress' was created successfully.\n",
      "The following products are in stock currently: [{'Name': 'Dress', 'Price': 5.0, 'Quantity': 10}]\n"
     ]
    }
   ],
   "source": [
    "stock.clear() #clean previous tests\n",
    "add_product_to_stock(\"Dress\",5,10) #probar añadir producto nuevo"
   ]
  },
  {
   "cell_type": "code",
   "execution_count": 212,
   "id": "c8f65acf",
   "metadata": {},
   "outputs": [
    {
     "name": "stdout",
     "output_type": "stream",
     "text": [
      "Product 'Jeans' was created successfully.\n",
      "The following products are in stock currently: [{'Name': 'Dress', 'Price': 5.0, 'Quantity': 10}, {'Name': 'Jeans', 'Price': 5.0, 'Quantity': 10}]\n"
     ]
    }
   ],
   "source": [
    "add_product_to_stock(\"Jeans\",5,10) #probar añadir producto nuevo\n"
   ]
  },
  {
   "cell_type": "code",
   "execution_count": 213,
   "id": "81a7450b",
   "metadata": {},
   "outputs": [
    {
     "name": "stdout",
     "output_type": "stream",
     "text": [
      "{'Name': 'Dress', 'Price': 5.0, 'Quantity': 10}\n"
     ]
    }
   ],
   "source": [
    "print(stock[0]) #\"stock\" es una lista, puedo buscar cada producto con índice."
   ]
  },
  {
   "cell_type": "code",
   "execution_count": 214,
   "id": "1f1481b0",
   "metadata": {},
   "outputs": [
    {
     "name": "stdout",
     "output_type": "stream",
     "text": [
      "Product 'Dress' already exists. Quantity was updated successfully.\n",
      "The following products are in stock currently: [{'Name': 'Dress', 'Price': 5.0, 'Quantity': 20}, {'Name': 'Jeans', 'Price': 5.0, 'Quantity': 10}]\n"
     ]
    }
   ],
   "source": [
    "add_product_to_stock(\"Dress\",5,10) #pruebo qué pasa al añadir un elemento que ya está en stock\n",
    "#quantity for dress is now 30 (20+10)"
   ]
  },
  {
   "cell_type": "code",
   "execution_count": 215,
   "id": "524346cd",
   "metadata": {},
   "outputs": [
    {
     "name": "stdout",
     "output_type": "stream",
     "text": [
      "Product 'Socks' was created successfully.\n",
      "The following products are in stock currently: [{'Name': 'Dress', 'Price': 5.0, 'Quantity': 20}, {'Name': 'Jeans', 'Price': 5.0, 'Quantity': 10}, {'Name': 'Socks', 'Price': 10.0, 'Quantity': 20}]\n"
     ]
    }
   ],
   "source": [
    "add_product_to_stock(\"Socks\",10,20)"
   ]
  },
  {
   "cell_type": "markdown",
   "id": "ec5b19a9",
   "metadata": {},
   "source": [
    "EJERCICIO 2"
   ]
  },
  {
   "cell_type": "code",
   "execution_count": 216,
   "id": "9cfab43d",
   "metadata": {},
   "outputs": [],
   "source": [
    "#`ver_inventario()`: Muestra el inventario de productos con sus detalles.\n",
    "#Debería verse:\n",
    "#```python\n",
    "#Nombre: Camisa, Precio: $20, Cantidad: 50\n",
    "#Nombre: Pantalón, Precio: $30, Cantidad: 30\n",
    "#Nombre: Zapatos, Precio: $50, Cantidad: 40\n",
    "#Nombre: Camisa, Precio: $20, Cantidad: 5\n",
    "\n",
    "def see_stock(): #no lleva argumento, lo quiero ver todo\n",
    "    if stock == []: #si lo coloco dentro del for da error, comprobar si está vacío el stock\n",
    "           print(\"There is no stock.\")\n",
    "           return\n",
    "    for product in stock: #Utiliza un bucle `for` para recorrer el inventario.\n",
    "        name = product[\"Name\"] #tengo que definir las variables porque si no, da error en el print\n",
    "        price = product[\"Price\"] \n",
    "        quantity = product[\"Quantity\"] \n",
    "        if stock != []: #si no está vacío el stock\n",
    "            print(f\"Name: {name}, Price: ${price}, Quantity: {quantity}.\") #Imprime los detalles (nombre, precio, cantidad) de cada producto.\n",
    "         "
   ]
  },
  {
   "cell_type": "code",
   "execution_count": 217,
   "id": "1e1c4a9c",
   "metadata": {},
   "outputs": [
    {
     "name": "stdout",
     "output_type": "stream",
     "text": [
      "Name: Dress, Price: $5.0, Quantity: 20.\n",
      "Name: Jeans, Price: $5.0, Quantity: 10.\n",
      "Name: Socks, Price: $10.0, Quantity: 20.\n"
     ]
    }
   ],
   "source": [
    "see_stock()"
   ]
  },
  {
   "cell_type": "code",
   "execution_count": 218,
   "id": "52d744dd",
   "metadata": {},
   "outputs": [
    {
     "name": "stdout",
     "output_type": "stream",
     "text": [
      "There is no stock.\n"
     ]
    }
   ],
   "source": [
    "stock.clear()\n",
    "see_stock()"
   ]
  },
  {
   "cell_type": "code",
   "execution_count": 219,
   "id": "4550e879",
   "metadata": {},
   "outputs": [
    {
     "name": "stdout",
     "output_type": "stream",
     "text": [
      "Product 'Jeans' was created successfully.\n",
      "The following products are in stock currently: [{'Name': 'Jeans', 'Price': 5.0, 'Quantity': 10}]\n",
      "Product 'Dress' was created successfully.\n",
      "The following products are in stock currently: [{'Name': 'Jeans', 'Price': 5.0, 'Quantity': 10}, {'Name': 'Dress', 'Price': 5.0, 'Quantity': 10}]\n",
      "Product 'Socks' was created successfully.\n",
      "The following products are in stock currently: [{'Name': 'Jeans', 'Price': 5.0, 'Quantity': 10}, {'Name': 'Dress', 'Price': 5.0, 'Quantity': 10}, {'Name': 'Socks', 'Price': 10.0, 'Quantity': 20}]\n"
     ]
    }
   ],
   "source": [
    "add_product_to_stock(\"Jeans\",5,10)\n",
    "add_product_to_stock(\"Dress\",5,10)\n",
    "add_product_to_stock(\"Socks\",10,20)"
   ]
  },
  {
   "cell_type": "markdown",
   "id": "3cc41eb7",
   "metadata": {},
   "source": [
    "EJERCICIO 3"
   ]
  },
  {
   "cell_type": "code",
   "execution_count": 220,
   "id": "89b70203",
   "metadata": {},
   "outputs": [],
   "source": [
    "#buscar_producto(nombre)`: Busca un producto en el inventario por nombre y muestra sus detalles si se encuentra. \n",
    "#Debe mostrar:\n",
    "#```python\n",
    "#Nombre: Camisa, Precio: $20, Cantidad: 40\n",
    "\n",
    "def search_product_by_name(name): # Debe recibir el nombre del producto como parámetro.\n",
    "    for product in stock: #Utiliza un bucle `for` para recorrer el inventario.\n",
    "        if product[\"Name\"] == name: #Compara los nombres de los productos con el nombre proporcionado.\n",
    "            price = product[\"Price\"] #tengo que definir las variables porque si no, da error en el print\n",
    "            quantity = product[\"Quantity\"]\n",
    "            #print(product)  muestra llaves y no el valor de euros!!!!!!!\n",
    "            print(f\"Name: {name}, Price: ${price}, Quantity: {quantity}.\")\n",
    "            return\n",
    "    print(f\"Product not found.\") "
   ]
  },
  {
   "cell_type": "code",
   "execution_count": 221,
   "id": "0a61e939",
   "metadata": {},
   "outputs": [
    {
     "name": "stdout",
     "output_type": "stream",
     "text": [
      "Name: Dress, Price: $5.0, Quantity: 10.\n"
     ]
    }
   ],
   "source": [
    "search_product_by_name(\"Dress\")"
   ]
  },
  {
   "cell_type": "code",
   "execution_count": 222,
   "id": "eb5d157e",
   "metadata": {},
   "outputs": [
    {
     "name": "stdout",
     "output_type": "stream",
     "text": [
      "Product not found.\n"
     ]
    }
   ],
   "source": [
    "search_product_by_name(\"tiara\")"
   ]
  },
  {
   "cell_type": "markdown",
   "id": "b8a071be",
   "metadata": {},
   "source": [
    "EJERCICIO 4"
   ]
  },
  {
   "cell_type": "code",
   "execution_count": 223,
   "id": "f6d7b8b5",
   "metadata": {},
   "outputs": [],
   "source": [
    "# `actualizar_stock(nombre, cantidad)`: Actualiza el stock de un producto en el inventario. \n",
    "\n",
    "#Actualiza la cantidad según la entrada del usuario.\n",
    "\n",
    "def update_product(name, quantity=None): # Debe recibir el nombre del producto y la cantidad a agregar o quitar como parámetros. None acepta que no haya valor.\n",
    "    for product in stock: # Utiliza un bucle `for` para recorrer el inventario.\n",
    "        if product[\"Name\"] == name: # Busca el producto por nombre.\n",
    "                if quantity != None and isinstance(quantity,int): #quiero que no esté vacío y que sea un entero, != \"\" no funciona porque no es string\n",
    "                        product[\"Quantity\"] = quantity #sobreescribir el valor que ya tiene el int\n",
    "                        print(\"Product was updated successfully.\")\n",
    "                        return\n",
    "                elif quantity != None and not isinstance(quantity,int):\n",
    "                      print(\"Please enter a number.\") #si dan un string\n",
    "                      return\n",
    "                else:   \n",
    "                        print(\"No quantity provided.\") #si está vacío o no es un entero\n",
    "                        return\n",
    "    print(\"Product not found.\") #Si el producto no está en el inventario muestra un mensaje indicándolo"
   ]
  },
  {
   "cell_type": "code",
   "execution_count": 224,
   "id": "a8d4e548",
   "metadata": {},
   "outputs": [
    {
     "name": "stdout",
     "output_type": "stream",
     "text": [
      "Product was updated successfully.\n"
     ]
    },
    {
     "data": {
      "text/plain": [
       "[{'Name': 'Jeans', 'Price': 5.0, 'Quantity': 10},\n",
       " {'Name': 'Dress', 'Price': 5.0, 'Quantity': 100},\n",
       " {'Name': 'Socks', 'Price': 10.0, 'Quantity': 20}]"
      ]
     },
     "execution_count": 224,
     "metadata": {},
     "output_type": "execute_result"
    }
   ],
   "source": [
    "update_product(\"Dress\", 100)\n",
    "stock"
   ]
  },
  {
   "cell_type": "code",
   "execution_count": 225,
   "id": "a0094fd1",
   "metadata": {},
   "outputs": [
    {
     "name": "stdout",
     "output_type": "stream",
     "text": [
      "No quantity provided.\n"
     ]
    }
   ],
   "source": [
    "update_product(\"Dress\")"
   ]
  },
  {
   "cell_type": "code",
   "execution_count": 226,
   "id": "f2ce90a6",
   "metadata": {},
   "outputs": [
    {
     "name": "stdout",
     "output_type": "stream",
     "text": [
      "Product not found.\n"
     ]
    }
   ],
   "source": [
    "update_product(\"Panties\", 100)"
   ]
  },
  {
   "cell_type": "code",
   "execution_count": 227,
   "id": "4d2db955",
   "metadata": {},
   "outputs": [
    {
     "name": "stdout",
     "output_type": "stream",
     "text": [
      "Please enter a number.\n"
     ]
    }
   ],
   "source": [
    "update_product(\"Dress\", \"ocho\") #not working why??"
   ]
  },
  {
   "cell_type": "markdown",
   "id": "74345e6b",
   "metadata": {},
   "source": [
    "EJERCICIO 5"
   ]
  },
  {
   "cell_type": "code",
   "execution_count": 228,
   "id": "047c32db",
   "metadata": {},
   "outputs": [],
   "source": [
    "#eliminar_producto(nombre)`: Elimina un producto del inventario por nombre. \n",
    "\n",
    "def delete_product(name):#Debe recibir el nombre del producto como parámetro.\n",
    "    for product in stock: #Utiliza un bucle `for` para recorrer el inventario.\n",
    "      if product[\"Name\"] == name: # Busca el producto por nombre.\n",
    "           stock.remove(product) #Elimina el producto del inventario si existe. Remove para eliminar diccionario completo de la lista\n",
    "           print(\"Product was deleted successfully.\")\n",
    "           return\n",
    "    print(\"Product not found.\") #Si el producto no esta en el inventario muestra un mensaje indicándolo\n"
   ]
  },
  {
   "cell_type": "code",
   "execution_count": 229,
   "id": "c91f380a",
   "metadata": {},
   "outputs": [
    {
     "data": {
      "text/plain": [
       "[{'Name': 'Jeans', 'Price': 5.0, 'Quantity': 10},\n",
       " {'Name': 'Dress', 'Price': 5.0, 'Quantity': 100},\n",
       " {'Name': 'Socks', 'Price': 10.0, 'Quantity': 20}]"
      ]
     },
     "execution_count": 229,
     "metadata": {},
     "output_type": "execute_result"
    }
   ],
   "source": [
    "stock #ver el stock antes de eliminar elemento"
   ]
  },
  {
   "cell_type": "code",
   "execution_count": 230,
   "id": "57110d5c",
   "metadata": {},
   "outputs": [
    {
     "name": "stdout",
     "output_type": "stream",
     "text": [
      "Product was deleted successfully.\n"
     ]
    }
   ],
   "source": [
    "delete_product(\"Dress\") #probar eliminar elemento"
   ]
  },
  {
   "cell_type": "code",
   "execution_count": 231,
   "id": "c7f165fa",
   "metadata": {},
   "outputs": [
    {
     "data": {
      "text/plain": [
       "[{'Name': 'Jeans', 'Price': 5.0, 'Quantity': 10},\n",
       " {'Name': 'Socks', 'Price': 10.0, 'Quantity': 20}]"
      ]
     },
     "execution_count": 231,
     "metadata": {},
     "output_type": "execute_result"
    }
   ],
   "source": [
    "stock #verificar si lo eliminó"
   ]
  },
  {
   "cell_type": "code",
   "execution_count": 232,
   "id": "3c8d98ff",
   "metadata": {},
   "outputs": [
    {
     "name": "stdout",
     "output_type": "stream",
     "text": [
      "Product not found.\n"
     ]
    }
   ],
   "source": [
    "delete_product(\"apple\") #probar eliminar elemento que no existe"
   ]
  },
  {
   "cell_type": "markdown",
   "id": "df3368ea",
   "metadata": {},
   "source": [
    "EJERCICIO 6"
   ]
  },
  {
   "cell_type": "code",
   "execution_count": 233,
   "id": "2c3cc328",
   "metadata": {},
   "outputs": [],
   "source": [
    "#`calcular_valor_inventario()`: Calcula y muestra el valor total del inventario.\n",
    "\n",
    "#Itera a través del inventario y suma el valor de cada producto (precio x cantidad). Es decir, calcula el valor total del inventario.\n",
    "#Ejemplo:\n",
    "#```python\n",
    " # si tenemos 5 camisas que valen 5 euros\n",
    " # y 10 calcetines que valen 1 euro\n",
    " # este método te tiene que devolver: 35 euros\n",
    "#valor_camisas = 5 * 5\n",
    "#valor_calcetines = 10 * 1\n",
    "#valor_camisas + valor_calcetines = 35\n",
    "\n",
    "def value_stock(stock):\n",
    "    total_value = 0 #empezar de cero para que se le sumen los subtotales por producto\n",
    "    for product in stock: #Utiliza un bucle for para calcular el valor total del inventario.\n",
    "        price = product[\"Price\"] #tengo que definir las variables porque si no, da error en el print\n",
    "        quantity = product[\"Quantity\"]\n",
    "        total_value += (price*quantity) #sumar cada multiplicación\n",
    "    print(f\"The total value of the stock is $ {total_value}.\")\n"
   ]
  },
  {
   "cell_type": "code",
   "execution_count": 234,
   "id": "27c535a8",
   "metadata": {},
   "outputs": [
    {
     "name": "stdout",
     "output_type": "stream",
     "text": [
      "The total value of the stock is $ 250.0.\n"
     ]
    },
    {
     "data": {
      "text/plain": [
       "[{'Name': 'Jeans', 'Price': 5.0, 'Quantity': 10},\n",
       " {'Name': 'Socks', 'Price': 10.0, 'Quantity': 20}]"
      ]
     },
     "execution_count": 234,
     "metadata": {},
     "output_type": "execute_result"
    }
   ],
   "source": [
    "value_stock(stock)\n",
    "stock\n"
   ]
  },
  {
   "cell_type": "markdown",
   "id": "e16cf6eb",
   "metadata": {},
   "source": [
    "EJERCICIO 7"
   ]
  },
  {
   "cell_type": "code",
   "execution_count": null,
   "id": "169aa2e3",
   "metadata": {},
   "outputs": [],
   "source": [
    "#realizar_compra()`: Permite a un cliente realizar una compra seleccionando productos del inventario. \n",
    "# Debe interactuar con el cliente para seleccionar productos y calcular el costo total de la compra.\n",
    "#Registra los productos seleccionados en un carrito y actualiza el inventario.\n",
    "#Calcula el costo total de la compra.\n",
    "\n",
    "def do_a_purchase():\n",
    "    selected_product = \"\"\n",
    "    selected_quantity = 0\n",
    "    wish_to_buy = \"\"\n",
    "    for product in stock:\n",
    "        price = product[\"Price\"] #tengo que definir las variables porque si no, da error en el print\n",
    "        quantity = product[\"Quantity\"]\n",
    "        name = product[\"Name\"]\n",
    "\n",
    "    wish_to_buy = input(\"Would you like to buy something? (Write 'Y' for Yes and 'N' for No).\").capitalize() #para saber si quieren comprar o no\n",
    "    if wish_to_buy != \"Y\" and wish_to_buy != \"N\": #mensaje de error para cuando escriben algo que no es Y/N\n",
    "        print(\"Your answer is not valid. Please try again.\") \n",
    "        wish_to_buy = input(\"Would you like to buy something? (Write 'Y' for Yes and 'N' for No).\").capitalize() #se repite la pregunta para reiniciar\n",
    "    while wish_to_buy == \"Y\":  # while #Utiliza un bucle `while` para permitir al cliente realizar múltiples compras.\n",
    "            \n",
    "            see_stock() #Muestra el inventario\n",
    "            selected_product = input(\"Considering the list shown, write the name of the product you  choose to buy.\").capitalize() # y solicita al cliente ingresar el nombre del producto que desea comprar.\n",
    "            print(f\"You have chosen {selected_product}.\")\n",
    "            for product in stock:\n",
    "                if selected_product not in product[\"Name\"]:\n",
    "                    print(\"Your answer is not valid. Please try again.\")\n",
    "                    see_stock() #Muestra el inventario #Muestra el inventario\n",
    "                    selected_product = input(\"Considering the list shown, write the name of the product you  choose to buy.\").capitalize() # y solicita al cliente ingresar el nombre del producto que desea comprar. \n",
    "                else:\n",
    "                    selected_quantity = int(input(\"Write many units of your selected product would you like to buy.\"))\n",
    "                    print(f\"You have chosen {selected_quantity} units.\")\n",
    "                    if selected_quantity > product[\"Quantity\"]:\n",
    "                        print(\"Our apologies, we do not have enough units of the selected product. Please try a different amount.\") #mensaje de error, hay menos unidades de lo necesario\n",
    "                        selected_quantity = int(input(\"Write many units of your selected product would you like to buy.\"))\n",
    "                    elif selected_quantity <= product[\"Quantity\"]:\n",
    "                        product[\"Quantity\"] -= selected_quantity #resta del inventario la cantidad solicitada por el cliente\n",
    "                        total_cost = (price*selected_quantity)\n",
    "                        print(f\"You have choosen {selected_quantity} units of the product '{selected_product}' and the total payment amount is {total_cost}.\")\n",
    "                    \n",
    "                        wish_to_buy = input(\"Would you like to buy something else? (Write 'Y' for Yes and 'N' for No)\").capitalize()\n",
    "                        while wish_to_buy == \"Y\":\n",
    "                            see_stock() #Muestra el inventario\n",
    "                            selected_product = input(\"Considering the list shown, write the name of the product you  choose to buy\").capitalize() # y solicita al cliente ingresar el nombre del producto que desea comprar.\n",
    "                            selected_quantity = int(input(\"Write many units of your selected product would you like to buy\"))\n",
    "                            print(f\"You have choosen {selected_quantity} units of the product '{selected_product}' and the total payment amount is {total_cost}.\")\n",
    "                            print(f\"This is our available stock: {stock}.\") #Muestra el inventario\n",
    "                        else:\n",
    "                            print(\"Thank you for shopping with us. You can proceed to check out.\")\n",
    "\n",
    "    else:\n",
    "        print(\"Noted. You can come back anytime.\")\n"
   ]
  },
  {
   "cell_type": "code",
   "execution_count": 250,
   "id": "03ecccc1",
   "metadata": {},
   "outputs": [
    {
     "name": "stdout",
     "output_type": "stream",
     "text": [
      "Name: Jeans, Price: $5.0, Quantity: 1.\n",
      "Name: Socks, Price: $10.0, Quantity: 20.\n",
      "You have chosen Dress.\n",
      "Your answer is not valid. Please try again.\n",
      "Name: Jeans, Price: $5.0, Quantity: 1.\n",
      "Name: Socks, Price: $10.0, Quantity: 20.\n",
      "Your answer is not valid. Please try again.\n",
      "Name: Jeans, Price: $5.0, Quantity: 1.\n",
      "Name: Socks, Price: $10.0, Quantity: 20.\n",
      "Name: Jeans, Price: $5.0, Quantity: 1.\n",
      "Name: Socks, Price: $10.0, Quantity: 20.\n",
      "You have chosen Jeans.\n",
      "You have chosen 3 units.\n",
      "Our apologies, we do not have enough units of the selected product. Please try a different amount.\n",
      "Your answer is not valid. Please try again.\n",
      "Name: Jeans, Price: $5.0, Quantity: 1.\n",
      "Name: Socks, Price: $10.0, Quantity: 20.\n",
      "Name: Jeans, Price: $5.0, Quantity: 1.\n",
      "Name: Socks, Price: $10.0, Quantity: 20.\n",
      "You have chosen Rd.\n",
      "Your answer is not valid. Please try again.\n",
      "Name: Jeans, Price: $5.0, Quantity: 1.\n",
      "Name: Socks, Price: $10.0, Quantity: 20.\n"
     ]
    },
    {
     "ename": "ValueError",
     "evalue": "invalid literal for int() with base 10: 'rffd'",
     "output_type": "error",
     "traceback": [
      "\u001b[1;31m---------------------------------------------------------------------------\u001b[0m",
      "\u001b[1;31mValueError\u001b[0m                                Traceback (most recent call last)",
      "Cell \u001b[1;32mIn[250], line 1\u001b[0m\n\u001b[1;32m----> 1\u001b[0m do_a_purchase()\n",
      "Cell \u001b[1;32mIn[249], line 30\u001b[0m, in \u001b[0;36mdo_a_purchase\u001b[1;34m()\u001b[0m\n\u001b[0;32m     28\u001b[0m     selected_product \u001b[38;5;241m=\u001b[39m \u001b[38;5;28minput\u001b[39m(\u001b[38;5;124m\"\u001b[39m\u001b[38;5;124mConsidering the list shown, write the name of the product you  choose to buy.\u001b[39m\u001b[38;5;124m\"\u001b[39m)\u001b[38;5;241m.\u001b[39mcapitalize() \u001b[38;5;66;03m# y solicita al cliente ingresar el nombre del producto que desea comprar. \u001b[39;00m\n\u001b[0;32m     29\u001b[0m \u001b[38;5;28;01melse\u001b[39;00m:\n\u001b[1;32m---> 30\u001b[0m     selected_quantity \u001b[38;5;241m=\u001b[39m \u001b[38;5;28mint\u001b[39m(\u001b[38;5;28minput\u001b[39m(\u001b[38;5;124m\"\u001b[39m\u001b[38;5;124mWrite many units of your selected product would you like to buy.\u001b[39m\u001b[38;5;124m\"\u001b[39m))\n\u001b[0;32m     31\u001b[0m     \u001b[38;5;28mprint\u001b[39m(\u001b[38;5;124mf\u001b[39m\u001b[38;5;124m\"\u001b[39m\u001b[38;5;124mYou have chosen \u001b[39m\u001b[38;5;132;01m{\u001b[39;00mselected_quantity\u001b[38;5;132;01m}\u001b[39;00m\u001b[38;5;124m units.\u001b[39m\u001b[38;5;124m\"\u001b[39m)\n\u001b[0;32m     32\u001b[0m     \u001b[38;5;28;01mif\u001b[39;00m selected_quantity \u001b[38;5;241m>\u001b[39m product[\u001b[38;5;124m\"\u001b[39m\u001b[38;5;124mQuantity\u001b[39m\u001b[38;5;124m\"\u001b[39m]:\n",
      "\u001b[1;31mValueError\u001b[0m: invalid literal for int() with base 10: 'rffd'"
     ]
    }
   ],
   "source": [
    "do_a_purchase() #el mensaje de salida al no querer comprar nada no puede ser el mismo que tras elegir algo que comprar\n"
   ]
  }
 ],
 "metadata": {
  "kernelspec": {
   "display_name": "base",
   "language": "python",
   "name": "python3"
  },
  "language_info": {
   "codemirror_mode": {
    "name": "ipython",
    "version": 3
   },
   "file_extension": ".py",
   "mimetype": "text/x-python",
   "name": "python",
   "nbconvert_exporter": "python",
   "pygments_lexer": "ipython3",
   "version": "3.12.9"
  }
 },
 "nbformat": 4,
 "nbformat_minor": 5
}
